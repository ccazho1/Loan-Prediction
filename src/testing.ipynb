{
 "cells": [
  {
   "cell_type": "code",
   "execution_count": null,
   "id": "872af1b4",
   "metadata": {},
   "outputs": [
    {
     "name": "stderr",
     "output_type": "stream",
     "text": [
      "/tmp/ipykernel_192726/1820597675.py:5: DtypeWarning: Columns (6,10,16) have mixed types. Specify dtype option on import or set low_memory=False.\n",
      "  df = pd.read_csv(path)\n"
     ]
    }
   ],
   "source": [
    "import pandas as pd\n",
    "\n",
    "path='../data/raw/loan_prediction_info.csv'\n",
    "df = pd.read_csv(path)"
   ]
  },
  {
   "cell_type": "code",
   "execution_count": 15,
   "id": "c5df84df",
   "metadata": {},
   "outputs": [
    {
     "name": "stdout",
     "output_type": "stream",
     "text": [
      "Loan ID                             0\n",
      "Customer ID                         0\n",
      "Loan Status                         0\n",
      "Current Loan Amount                 0\n",
      "Term                                0\n",
      "Credit Score                    21338\n",
      "Years_in_Job                     4677\n",
      "Home Ownership                      0\n",
      "Annual Income                   21338\n",
      "Purpose                             0\n",
      "Monthly Debt                        0\n",
      " Years of Credit History            0\n",
      "Months since last delinquent        0\n",
      "Number of Open Accounts             0\n",
      "Number of Credit Problems           0\n",
      "Current Credit Balance              0\n",
      "Maximum Open Credit                 0\n",
      "Bankruptcies                        0\n",
      "Tax Liens                          11\n",
      "dtype: int64\n"
     ]
    }
   ],
   "source": [
    "null_sum = df.isnull().sum()\n",
    "print(null_sum)"
   ]
  },
  {
   "cell_type": "code",
   "execution_count": 16,
   "id": "b9ed0d7e",
   "metadata": {},
   "outputs": [
    {
     "name": "stdout",
     "output_type": "stream",
     "text": [
      "Loan ID                          0.000000\n",
      "Customer ID                      0.000000\n",
      "Loan Status                      0.000000\n",
      "Current Loan Amount              0.000000\n",
      "Term                             0.000000\n",
      "Credit Score                    19.204911\n",
      "Years_in_Job                     4.209456\n",
      "Home Ownership                   0.000000\n",
      "Annual Income                   19.204911\n",
      "Purpose                          0.000000\n",
      "Monthly Debt                     0.000000\n",
      " Years of Credit History         0.000000\n",
      "Months since last delinquent     0.000000\n",
      "Number of Open Accounts          0.000000\n",
      "Number of Credit Problems        0.000000\n",
      "Current Credit Balance           0.000000\n",
      "Maximum Open Credit              0.000000\n",
      "Bankruptcies                     0.000000\n",
      "Tax Liens                        0.009900\n",
      "dtype: float64\n"
     ]
    }
   ],
   "source": [
    "perc_missing = null_sum * 100 / len(df) \n",
    "print(perc_missing)"
   ]
  }
 ],
 "metadata": {
  "kernelspec": {
   "display_name": "venv",
   "language": "python",
   "name": "python3"
  },
  "language_info": {
   "codemirror_mode": {
    "name": "ipython",
    "version": 3
   },
   "file_extension": ".py",
   "mimetype": "text/x-python",
   "name": "python",
   "nbconvert_exporter": "python",
   "pygments_lexer": "ipython3",
   "version": "3.12.6"
  }
 },
 "nbformat": 4,
 "nbformat_minor": 5
}
