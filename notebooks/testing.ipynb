{
 "cells": [
  {
   "cell_type": "code",
   "execution_count": 2,
   "id": "872af1b4",
   "metadata": {},
   "outputs": [
    {
     "name": "stderr",
     "output_type": "stream",
     "text": [
      "/tmp/ipykernel_184191/3706939666.py:4: DtypeWarning: Columns (6,10,16) have mixed types. Specify dtype option on import or set low_memory=False.\n",
      "  df = pd.read_csv(path)\n"
     ]
    }
   ],
   "source": [
    "import pandas as pd\n",
    "\n",
    "path='../data/raw/loan_prediction_info.csv'\n",
    "df = pd.read_csv(path)"
   ]
  },
  {
   "cell_type": "code",
   "execution_count": null,
   "id": "c5df84df",
   "metadata": {},
   "outputs": [],
   "source": [
    "null_sum = df.isnull().sum()\n",
    "print(null_sum)"
   ]
  },
  {
   "cell_type": "code",
   "execution_count": 8,
   "id": "3c95bf14",
   "metadata": {},
   "outputs": [
    {
     "name": "stdout",
     "output_type": "stream",
     "text": [
      "6504\n",
      "167\n",
      "758\n"
     ]
    }
   ],
   "source": [
    "house_improv = (df[\"Purpose\"] == \"Home Improvements\").sum()\n",
    "mov= (df[\"Purpose\"] == \"moving\").sum()\n",
    "buy_h = (df[\"Purpose\"] == \"Buy House\").sum()\n",
    "print(house_improv)\n",
    "print(mov)\n",
    "print(buy_h)"
   ]
  },
  {
   "cell_type": "code",
   "execution_count": null,
   "id": "b9ed0d7e",
   "metadata": {},
   "outputs": [],
   "source": [
    "perc_missing = null_sum * 100 / len(df) \n",
    "print(perc_missing)"
   ]
  },
  {
   "cell_type": "code",
   "execution_count": 5,
   "id": "eef501cb",
   "metadata": {},
   "outputs": [
    {
     "name": "stdout",
     "output_type": "stream",
     "text": [
      "111107\n"
     ]
    }
   ],
   "source": [
    "print((df[\"Term\"] == \"Long Term\").count())\n"
   ]
  }
 ],
 "metadata": {
  "kernelspec": {
   "display_name": "venv",
   "language": "python",
   "name": "python3"
  },
  "language_info": {
   "codemirror_mode": {
    "name": "ipython",
    "version": 3
   },
   "file_extension": ".py",
   "mimetype": "text/x-python",
   "name": "python",
   "nbconvert_exporter": "python",
   "pygments_lexer": "ipython3",
   "version": "3.12.6"
  }
 },
 "nbformat": 4,
 "nbformat_minor": 5
}
